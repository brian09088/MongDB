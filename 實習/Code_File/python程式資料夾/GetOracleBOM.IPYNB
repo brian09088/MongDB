{
 "cells": [
  {
   "cell_type": "code",
   "execution_count": 5,
   "metadata": {},
   "outputs": [
    {
     "data": {
      "text/plain": [
       "'\\nlogPath =\"Log\"+\"\\\\\" +todayStr+ \".log\" \\nlogging.basicConfig(filename=logPath, encoding=\\'utf-8\\', \\n    level=logging.INFO,\\n    format=\\'%(asctime)s - %(funcName)s-%(lineno)d - %(levelname)s - %(message)s\\',\\n    datefmt=\\'%Y-%m-%d %H:%M:%S\\'\\n)\\n'"
      ]
     },
     "execution_count": 5,
     "metadata": {},
     "output_type": "execute_result"
    }
   ],
   "source": [
    "import datetime as dt\n",
    "import cx_Oracle\n",
    "import pandas as pd \n",
    "import sqlalchemy #for panda + CX_ORacle\n",
    "import importlib\n",
    "import logging\n",
    "import math\n",
    "pd.set_option('display.float_format',lambda x : '%.2f' % x) #處理科學符號顯示問題\n",
    "import getpass\n",
    "import win32com.client\n",
    "import datetime as dt\n",
    "import time\n",
    "from datetime import datetime, timedelta\n",
    "\n",
    "import pymongo\n",
    "import pandas as pd\n",
    "\n",
    "import numpy as np\n",
    "from os import listdir\n",
    "from os.path import isfile, isdir, join\n",
    "import sys\n",
    "import json\n",
    "sys.path.append(r\"D:\\SOP\")\n",
    "## 注意 如果有Recompile 要清掉pycache class define 乾 害我踩地雷\n",
    "import Key_DB_Class\n",
    "importlib.reload(Key_DB_Class)\n",
    "from Key_DB_Class import DB_Connection\n",
    "from Key_DB_Class import TXN_Message\n",
    "from Key_DB_Class import DB_TXN_Adopter\n",
    "\n",
    "txn_MSG =TXN_Message()\n",
    "txn_MSG.CurrentDataFlowName='YourFlowName'\n",
    "todayStr =dt.datetime.today().strftime('%Y-%m-%d')\n",
    "\n",
    "logPath =\"Log\"+\"\\\\\" +todayStr+ \".log\" \n",
    "logging.basicConfig(filename=logPath, encoding='utf-8', \n",
    "    level=logging.INFO,\n",
    "    format='%(asctime)s - %(funcName)s-%(lineno)d - %(levelname)s - %(message)s',\n",
    "    datefmt='%Y-%m-%d %H:%M:%S'\n",
    ")\n"
   ]
  },
  {
   "cell_type": "code",
   "execution_count": 6,
   "metadata": {},
   "outputs": [],
   "source": [
    "DBNameAtUserName_Conn = DB_Connection()\n",
    "DBNameAtUserName_Conn.UserName='XXWNC'\n",
    "DBNameAtUserName_Conn.PassWord='XXWNC'\n",
    "DBNameAtUserName_Conn.Database='ERP_TWNP3'"
   ]
  },
  {
   "cell_type": "code",
   "execution_count": 8,
   "metadata": {},
   "outputs": [
    {
     "name": "stdout",
     "output_type": "stream",
     "text": [
      "\n",
      "            CurrentDataFlowName: YourFlowName \n",
      "            State: Fail \n",
      "            ProcessFunction :GetOracle_DF  \n",
      "            ErrorMessage :(cx_Oracle.DatabaseError) ORA-12154: TNS: 無法解析指定的連線 ID\n",
      "(Background on this error at: https://sqlalche.me/e/14/4xp6)\n",
      "            MachineName :T1-1-1-Q-50802\n",
      "            IPAddress :172.16.56.99\n",
      "            Memo:''\n",
      "            \n",
      "0\n"
     ]
    }
   ],
   "source": [
    "\n",
    "SQL= \"\"\" \n",
    "    SELECT *\n",
    "    FROM BOM_STRUCTURES_B\n",
    "\"\"\"\n",
    "DF = DB_TXN_Adopter.GetOracle_DF(DBNameAtUserName_Conn,SQL,txn_MSG)\n",
    "\n",
    "print(len(DF))\n"
   ]
  },
  {
   "cell_type": "code",
   "execution_count": null,
   "metadata": {},
   "outputs": [
    {
     "name": "stderr",
     "output_type": "stream",
     "text": [
      "C:\\Users\\ServiceAdmin\\AppData\\Local\\Temp\\2\\ipykernel_8472\\1443894681.py:26: SettingWithCopyWarning: \n",
      "A value is trying to be set on a copy of a slice from a DataFrame\n",
      "\n",
      "See the caveats in the documentation: https://pandas.pydata.org/pandas-docs/stable/user_guide/indexing.html#returning-a-view-versus-a-copy\n",
      "  batch_data.fillna(\"-\",inplace=True)\n"
     ]
    },
    {
     "ename": "KeyboardInterrupt",
     "evalue": "",
     "output_type": "error",
     "traceback": [
      "\u001b[1;31m---------------------------------------------------------------------------\u001b[0m",
      "\u001b[1;31mKeyboardInterrupt\u001b[0m                         Traceback (most recent call last)",
      "\u001b[1;32mc:\\Users\\ServiceAdmin\\BOM文件檔\\程式\\data_access\\GetOracleBOM.IPYNB Cell 4\u001b[0m in \u001b[0;36m<cell line: 18>\u001b[1;34m()\u001b[0m\n\u001b[0;32m     <a href='vscode-notebook-cell:/c%3A/Users/ServiceAdmin/BOM%E6%96%87%E4%BB%B6%E6%AA%94/%E7%A8%8B%E5%BC%8F/data_access/GetOracleBOM.IPYNB#W5sZmlsZQ%3D%3D?line=23'>24</a>\u001b[0m batch_data \u001b[39m=\u001b[39m DF\u001b[39m.\u001b[39miloc[start_index:end_index]\n\u001b[0;32m     <a href='vscode-notebook-cell:/c%3A/Users/ServiceAdmin/BOM%E6%96%87%E4%BB%B6%E6%AA%94/%E7%A8%8B%E5%BC%8F/data_access/GetOracleBOM.IPYNB#W5sZmlsZQ%3D%3D?line=25'>26</a>\u001b[0m batch_data\u001b[39m.\u001b[39mfillna(\u001b[39m\"\u001b[39m\u001b[39m-\u001b[39m\u001b[39m\"\u001b[39m,inplace\u001b[39m=\u001b[39m\u001b[39mTrue\u001b[39;00m)    \n\u001b[1;32m---> <a href='vscode-notebook-cell:/c%3A/Users/ServiceAdmin/BOM%E6%96%87%E4%BB%B6%E6%AA%94/%E7%A8%8B%E5%BC%8F/data_access/GetOracleBOM.IPYNB#W5sZmlsZQ%3D%3D?line=27'>28</a>\u001b[0m data_list \u001b[39m=\u001b[39m batch_data\u001b[39m.\u001b[39;49mto_dict(\u001b[39m'\u001b[39;49m\u001b[39mrecords\u001b[39;49m\u001b[39m'\u001b[39;49m)\n\u001b[0;32m     <a href='vscode-notebook-cell:/c%3A/Users/ServiceAdmin/BOM%E6%96%87%E4%BB%B6%E6%AA%94/%E7%A8%8B%E5%BC%8F/data_access/GetOracleBOM.IPYNB#W5sZmlsZQ%3D%3D?line=28'>29</a>\u001b[0m collection\u001b[39m.\u001b[39minsert_many(data_list)\n",
      "File \u001b[1;32md:\\Python_ENV\\env\\lib\\site-packages\\pandas\\core\\frame.py:1947\u001b[0m, in \u001b[0;36mDataFrame.to_dict\u001b[1;34m(self, orient, into)\u001b[0m\n\u001b[0;32m   1942\u001b[0m     columns \u001b[39m=\u001b[39m \u001b[39mself\u001b[39m\u001b[39m.\u001b[39mcolumns\u001b[39m.\u001b[39mtolist()\n\u001b[0;32m   1943\u001b[0m     rows \u001b[39m=\u001b[39m (\n\u001b[0;32m   1944\u001b[0m         \u001b[39mdict\u001b[39m(\u001b[39mzip\u001b[39m(columns, row))\n\u001b[0;32m   1945\u001b[0m         \u001b[39mfor\u001b[39;00m row \u001b[39min\u001b[39;00m \u001b[39mself\u001b[39m\u001b[39m.\u001b[39mitertuples(index\u001b[39m=\u001b[39m\u001b[39mFalse\u001b[39;00m, name\u001b[39m=\u001b[39m\u001b[39mNone\u001b[39;00m)\n\u001b[0;32m   1946\u001b[0m     )\n\u001b[1;32m-> 1947\u001b[0m     \u001b[39mreturn\u001b[39;00m [\n\u001b[0;32m   1948\u001b[0m         into_c((k, maybe_box_native(v)) \u001b[39mfor\u001b[39;00m k, v \u001b[39min\u001b[39;00m row\u001b[39m.\u001b[39mitems()) \u001b[39mfor\u001b[39;00m row \u001b[39min\u001b[39;00m rows\n\u001b[0;32m   1949\u001b[0m     ]\n\u001b[0;32m   1951\u001b[0m \u001b[39melif\u001b[39;00m orient \u001b[39m==\u001b[39m \u001b[39m\"\u001b[39m\u001b[39mindex\u001b[39m\u001b[39m\"\u001b[39m:\n\u001b[0;32m   1952\u001b[0m     \u001b[39mif\u001b[39;00m \u001b[39mnot\u001b[39;00m \u001b[39mself\u001b[39m\u001b[39m.\u001b[39mindex\u001b[39m.\u001b[39mis_unique:\n",
      "File \u001b[1;32md:\\Python_ENV\\env\\lib\\site-packages\\pandas\\core\\frame.py:1948\u001b[0m, in \u001b[0;36m<listcomp>\u001b[1;34m(.0)\u001b[0m\n\u001b[0;32m   1942\u001b[0m     columns \u001b[39m=\u001b[39m \u001b[39mself\u001b[39m\u001b[39m.\u001b[39mcolumns\u001b[39m.\u001b[39mtolist()\n\u001b[0;32m   1943\u001b[0m     rows \u001b[39m=\u001b[39m (\n\u001b[0;32m   1944\u001b[0m         \u001b[39mdict\u001b[39m(\u001b[39mzip\u001b[39m(columns, row))\n\u001b[0;32m   1945\u001b[0m         \u001b[39mfor\u001b[39;00m row \u001b[39min\u001b[39;00m \u001b[39mself\u001b[39m\u001b[39m.\u001b[39mitertuples(index\u001b[39m=\u001b[39m\u001b[39mFalse\u001b[39;00m, name\u001b[39m=\u001b[39m\u001b[39mNone\u001b[39;00m)\n\u001b[0;32m   1946\u001b[0m     )\n\u001b[0;32m   1947\u001b[0m     \u001b[39mreturn\u001b[39;00m [\n\u001b[1;32m-> 1948\u001b[0m         into_c((k, maybe_box_native(v)) \u001b[39mfor\u001b[39;49;00m k, v \u001b[39min\u001b[39;49;00m row\u001b[39m.\u001b[39;49mitems()) \u001b[39mfor\u001b[39;00m row \u001b[39min\u001b[39;00m rows\n\u001b[0;32m   1949\u001b[0m     ]\n\u001b[0;32m   1951\u001b[0m \u001b[39melif\u001b[39;00m orient \u001b[39m==\u001b[39m \u001b[39m\"\u001b[39m\u001b[39mindex\u001b[39m\u001b[39m\"\u001b[39m:\n\u001b[0;32m   1952\u001b[0m     \u001b[39mif\u001b[39;00m \u001b[39mnot\u001b[39;00m \u001b[39mself\u001b[39m\u001b[39m.\u001b[39mindex\u001b[39m.\u001b[39mis_unique:\n",
      "File \u001b[1;32md:\\Python_ENV\\env\\lib\\site-packages\\pandas\\core\\frame.py:1948\u001b[0m, in \u001b[0;36m<genexpr>\u001b[1;34m(.0)\u001b[0m\n\u001b[0;32m   1942\u001b[0m     columns \u001b[39m=\u001b[39m \u001b[39mself\u001b[39m\u001b[39m.\u001b[39mcolumns\u001b[39m.\u001b[39mtolist()\n\u001b[0;32m   1943\u001b[0m     rows \u001b[39m=\u001b[39m (\n\u001b[0;32m   1944\u001b[0m         \u001b[39mdict\u001b[39m(\u001b[39mzip\u001b[39m(columns, row))\n\u001b[0;32m   1945\u001b[0m         \u001b[39mfor\u001b[39;00m row \u001b[39min\u001b[39;00m \u001b[39mself\u001b[39m\u001b[39m.\u001b[39mitertuples(index\u001b[39m=\u001b[39m\u001b[39mFalse\u001b[39;00m, name\u001b[39m=\u001b[39m\u001b[39mNone\u001b[39;00m)\n\u001b[0;32m   1946\u001b[0m     )\n\u001b[0;32m   1947\u001b[0m     \u001b[39mreturn\u001b[39;00m [\n\u001b[1;32m-> 1948\u001b[0m         into_c((k, maybe_box_native(v)) \u001b[39mfor\u001b[39;00m k, v \u001b[39min\u001b[39;00m row\u001b[39m.\u001b[39mitems()) \u001b[39mfor\u001b[39;00m row \u001b[39min\u001b[39;00m rows\n\u001b[0;32m   1949\u001b[0m     ]\n\u001b[0;32m   1951\u001b[0m \u001b[39melif\u001b[39;00m orient \u001b[39m==\u001b[39m \u001b[39m\"\u001b[39m\u001b[39mindex\u001b[39m\u001b[39m\"\u001b[39m:\n\u001b[0;32m   1952\u001b[0m     \u001b[39mif\u001b[39;00m \u001b[39mnot\u001b[39;00m \u001b[39mself\u001b[39m\u001b[39m.\u001b[39mindex\u001b[39m.\u001b[39mis_unique:\n",
      "File \u001b[1;32md:\\Python_ENV\\env\\lib\\site-packages\\pandas\\core\\dtypes\\cast.py:186\u001b[0m, in \u001b[0;36mmaybe_box_native\u001b[1;34m(value)\u001b[0m\n\u001b[0;32m    174\u001b[0m \u001b[39mdef\u001b[39;00m \u001b[39mmaybe_box_native\u001b[39m(value: Scalar) \u001b[39m-\u001b[39m\u001b[39m>\u001b[39m Scalar:\n\u001b[0;32m    175\u001b[0m     \u001b[39m\"\"\"\u001b[39;00m\n\u001b[0;32m    176\u001b[0m \u001b[39m    If passed a scalar cast the scalar to a python native type.\u001b[39;00m\n\u001b[0;32m    177\u001b[0m \n\u001b[1;32m   (...)\u001b[0m\n\u001b[0;32m    184\u001b[0m \u001b[39m    scalar or Series\u001b[39;00m\n\u001b[0;32m    185\u001b[0m \u001b[39m    \"\"\"\u001b[39;00m\n\u001b[1;32m--> 186\u001b[0m     \u001b[39mif\u001b[39;00m is_float(value):\n\u001b[0;32m    187\u001b[0m         \u001b[39m# error: Argument 1 to \"float\" has incompatible type\u001b[39;00m\n\u001b[0;32m    188\u001b[0m         \u001b[39m# \"Union[Union[str, int, float, bool], Union[Any, Timestamp, Timedelta, Any]]\";\u001b[39;00m\n\u001b[0;32m    189\u001b[0m         \u001b[39m# expected \"Union[SupportsFloat, _SupportsIndex, str]\"\u001b[39;00m\n\u001b[0;32m    190\u001b[0m         value \u001b[39m=\u001b[39m \u001b[39mfloat\u001b[39m(value)  \u001b[39m# type: ignore[arg-type]\u001b[39;00m\n\u001b[0;32m    191\u001b[0m     \u001b[39melif\u001b[39;00m is_integer(value):\n\u001b[0;32m    192\u001b[0m         \u001b[39m# error: Argument 1 to \"int\" has incompatible type\u001b[39;00m\n\u001b[0;32m    193\u001b[0m         \u001b[39m# \"Union[Union[str, int, float, bool], Union[Any, Timestamp, Timedelta, Any]]\";\u001b[39;00m\n\u001b[0;32m    194\u001b[0m         \u001b[39m# expected \"Union[str, SupportsInt, _SupportsIndex, _SupportsTrunc]\"\u001b[39;00m\n",
      "\u001b[1;31mKeyboardInterrupt\u001b[0m: "
     ]
    }
   ],
   "source": [
    "import pymongo\n",
    "import pandas as pd\n",
    "\n",
    "table_name = 'BOM'\n",
    "collection_name = 'APPS.BOM_COMPONENTS_B'\n",
    "\n",
    "client = pymongo.MongoClient('mongodb://localhost:27017/')\n",
    "table = client[table_name]\n",
    "collection = table[collection_name] \n",
    "\n",
    "# address = \"XXWNC/XXWNC@erpaptst1:1524/TWNP3\"\n",
    "batch_size = 10000\n",
    "\n",
    "# 計算要進行幾次迴圈\n",
    "num_batches = (len(DF) // batch_size) + 1\n",
    "\n",
    "# 分批處理資料\n",
    "for i in range(num_batches):\n",
    "\n",
    "    # 計算每一批次的起始索引和結束索引\n",
    "    start_index = i * batch_size\n",
    "    end_index = (i + 1) * batch_size\n",
    "\n",
    "    # 取出每一批次的資料\n",
    "    batch_data = DF.iloc[start_index:end_index]\n",
    "\n",
    "    # ValueError: NaTType does not support utcoffset 不知道這樣能否解決?\n",
    "    batch_data.fillna(\"-\",inplace=True)    \n",
    "    \n",
    "    data_list = batch_data.to_dict('records')\n",
    "    collection.insert_many(data_list)\n",
    "\n",
    "print(\"end\")\n",
    "DBNameAtUserName_Conn.close()\n"
   ]
  },
  {
   "cell_type": "code",
   "execution_count": null,
   "metadata": {},
   "outputs": [
    {
     "name": "stderr",
     "output_type": "stream",
     "text": [
      "d:\\Python_ENV\\env\\lib\\site-packages\\pandas\\io\\sql.py:761: UserWarning: pandas only support SQLAlchemy connectable(engine/connection) ordatabase string URI or sqlite3 DBAPI2 connectionother DBAPI2 objects are not tested, please consider using SQLAlchemy\n",
      "  warnings.warn(\n"
     ]
    },
    {
     "ename": "KeyboardInterrupt",
     "evalue": "",
     "output_type": "error",
     "traceback": [
      "\u001b[1;31m---------------------------------------------------------------------------\u001b[0m",
      "\u001b[1;31mKeyboardInterrupt\u001b[0m                         Traceback (most recent call last)",
      "\u001b[1;32mc:\\Users\\ServiceAdmin\\BOM文件檔\\程式\\data_access\\GetOracleBOM.IPYNB Cell 4\u001b[0m in \u001b[0;36m<cell line: 11>\u001b[1;34m()\u001b[0m\n\u001b[0;32m      <a href='vscode-notebook-cell:/c%3A/Users/ServiceAdmin/BOM%E6%96%87%E4%BB%B6%E6%AA%94/%E7%A8%8B%E5%BC%8F/data_access/GetOracleBOM.IPYNB#W4sZmlsZQ%3D%3D?line=7'>8</a>\u001b[0m table \u001b[39m=\u001b[39m client[table_name]\n\u001b[0;32m      <a href='vscode-notebook-cell:/c%3A/Users/ServiceAdmin/BOM%E6%96%87%E4%BB%B6%E6%AA%94/%E7%A8%8B%E5%BC%8F/data_access/GetOracleBOM.IPYNB#W4sZmlsZQ%3D%3D?line=8'>9</a>\u001b[0m collection \u001b[39m=\u001b[39m table[collection_name]\n\u001b[1;32m---> <a href='vscode-notebook-cell:/c%3A/Users/ServiceAdmin/BOM%E6%96%87%E4%BB%B6%E6%AA%94/%E7%A8%8B%E5%BC%8F/data_access/GetOracleBOM.IPYNB#W4sZmlsZQ%3D%3D?line=10'>11</a>\u001b[0m slice_data(collection, address , SQL, batch_size)\n\u001b[0;32m     <a href='vscode-notebook-cell:/c%3A/Users/ServiceAdmin/BOM%E6%96%87%E4%BB%B6%E6%AA%94/%E7%A8%8B%E5%BC%8F/data_access/GetOracleBOM.IPYNB#W4sZmlsZQ%3D%3D?line=12'>13</a>\u001b[0m \u001b[39m# DF分割成小塊\u001b[39;00m\n\u001b[0;32m     <a href='vscode-notebook-cell:/c%3A/Users/ServiceAdmin/BOM%E6%96%87%E4%BB%B6%E6%AA%94/%E7%A8%8B%E5%BC%8F/data_access/GetOracleBOM.IPYNB#W4sZmlsZQ%3D%3D?line=13'>14</a>\u001b[0m \n\u001b[0;32m     <a href='vscode-notebook-cell:/c%3A/Users/ServiceAdmin/BOM%E6%96%87%E4%BB%B6%E6%AA%94/%E7%A8%8B%E5%BC%8F/data_access/GetOracleBOM.IPYNB#W4sZmlsZQ%3D%3D?line=14'>15</a>\u001b[0m \u001b[39m# 轉換形式\u001b[39;00m\n\u001b[1;32m   (...)\u001b[0m\n\u001b[0;32m     <a href='vscode-notebook-cell:/c%3A/Users/ServiceAdmin/BOM%E6%96%87%E4%BB%B6%E6%AA%94/%E7%A8%8B%E5%BC%8F/data_access/GetOracleBOM.IPYNB#W4sZmlsZQ%3D%3D?line=17'>18</a>\u001b[0m \u001b[39m# 加入資料庫\u001b[39;00m\n\u001b[0;32m     <a href='vscode-notebook-cell:/c%3A/Users/ServiceAdmin/BOM%E6%96%87%E4%BB%B6%E6%AA%94/%E7%A8%8B%E5%BC%8F/data_access/GetOracleBOM.IPYNB#W4sZmlsZQ%3D%3D?line=18'>19</a>\u001b[0m \u001b[39m# collection.insert_many(data_list)\u001b[39;00m\n\u001b[0;32m     <a href='vscode-notebook-cell:/c%3A/Users/ServiceAdmin/BOM%E6%96%87%E4%BB%B6%E6%AA%94/%E7%A8%8B%E5%BC%8F/data_access/GetOracleBOM.IPYNB#W4sZmlsZQ%3D%3D?line=19'>20</a>\u001b[0m \u001b[39m'''\u001b[39;00m\n\u001b[0;32m     <a href='vscode-notebook-cell:/c%3A/Users/ServiceAdmin/BOM%E6%96%87%E4%BB%B6%E6%AA%94/%E7%A8%8B%E5%BC%8F/data_access/GetOracleBOM.IPYNB#W4sZmlsZQ%3D%3D?line=20'>21</a>\u001b[0m \u001b[39mjson_str = DF.to_json(orient = 'records')\u001b[39;00m\n\u001b[0;32m     <a href='vscode-notebook-cell:/c%3A/Users/ServiceAdmin/BOM%E6%96%87%E4%BB%B6%E6%AA%94/%E7%A8%8B%E5%BC%8F/data_access/GetOracleBOM.IPYNB#W4sZmlsZQ%3D%3D?line=21'>22</a>\u001b[0m \n\u001b[1;32m   (...)\u001b[0m\n\u001b[0;32m     <a href='vscode-notebook-cell:/c%3A/Users/ServiceAdmin/BOM%E6%96%87%E4%BB%B6%E6%AA%94/%E7%A8%8B%E5%BC%8F/data_access/GetOracleBOM.IPYNB#W4sZmlsZQ%3D%3D?line=26'>27</a>\u001b[0m \u001b[39mcollection.insert_many(data.to_dict(orient='records'))\u001b[39;00m\n\u001b[0;32m     <a href='vscode-notebook-cell:/c%3A/Users/ServiceAdmin/BOM%E6%96%87%E4%BB%B6%E6%AA%94/%E7%A8%8B%E5%BC%8F/data_access/GetOracleBOM.IPYNB#W4sZmlsZQ%3D%3D?line=27'>28</a>\u001b[0m \u001b[39m'''\u001b[39;00m\n",
      "\u001b[1;32mc:\\Users\\ServiceAdmin\\BOM文件檔\\程式\\data_access\\GetOracleBOM.IPYNB Cell 4\u001b[0m in \u001b[0;36mslice_data\u001b[1;34m(collection, address, SQL, batch_size)\u001b[0m\n\u001b[0;32m     <a href='vscode-notebook-cell:/c%3A/Users/ServiceAdmin/BOM%E6%96%87%E4%BB%B6%E6%AA%94/%E7%A8%8B%E5%BC%8F/data_access/GetOracleBOM.IPYNB#W4sZmlsZQ%3D%3D?line=10'>11</a>\u001b[0m conn \u001b[39m=\u001b[39m cx_Oracle\u001b[39m.\u001b[39mconnect(address)\n\u001b[0;32m     <a href='vscode-notebook-cell:/c%3A/Users/ServiceAdmin/BOM%E6%96%87%E4%BB%B6%E6%AA%94/%E7%A8%8B%E5%BC%8F/data_access/GetOracleBOM.IPYNB#W4sZmlsZQ%3D%3D?line=12'>13</a>\u001b[0m \u001b[39mfor\u001b[39;00m chunk \u001b[39min\u001b[39;00m pd\u001b[39m.\u001b[39mread_sql(SQL, conn, chunksize\u001b[39m=\u001b[39mbatch_size):\n\u001b[1;32m---> <a href='vscode-notebook-cell:/c%3A/Users/ServiceAdmin/BOM%E6%96%87%E4%BB%B6%E6%AA%94/%E7%A8%8B%E5%BC%8F/data_access/GetOracleBOM.IPYNB#W4sZmlsZQ%3D%3D?line=13'>14</a>\u001b[0m     data_list \u001b[39m=\u001b[39m DF\u001b[39m.\u001b[39;49mto_dict(\u001b[39m'\u001b[39;49m\u001b[39mrecords\u001b[39;49m\u001b[39m'\u001b[39;49m)\n\u001b[0;32m     <a href='vscode-notebook-cell:/c%3A/Users/ServiceAdmin/BOM%E6%96%87%E4%BB%B6%E6%AA%94/%E7%A8%8B%E5%BC%8F/data_access/GetOracleBOM.IPYNB#W4sZmlsZQ%3D%3D?line=14'>15</a>\u001b[0m     collection\u001b[39m.\u001b[39minsert_many(data_list)\n\u001b[0;32m     <a href='vscode-notebook-cell:/c%3A/Users/ServiceAdmin/BOM%E6%96%87%E4%BB%B6%E6%AA%94/%E7%A8%8B%E5%BC%8F/data_access/GetOracleBOM.IPYNB#W4sZmlsZQ%3D%3D?line=16'>17</a>\u001b[0m conn\u001b[39m.\u001b[39mclose()\n",
      "File \u001b[1;32md:\\Python_ENV\\env\\lib\\site-packages\\pandas\\core\\frame.py:1947\u001b[0m, in \u001b[0;36mDataFrame.to_dict\u001b[1;34m(self, orient, into)\u001b[0m\n\u001b[0;32m   1942\u001b[0m     columns \u001b[39m=\u001b[39m \u001b[39mself\u001b[39m\u001b[39m.\u001b[39mcolumns\u001b[39m.\u001b[39mtolist()\n\u001b[0;32m   1943\u001b[0m     rows \u001b[39m=\u001b[39m (\n\u001b[0;32m   1944\u001b[0m         \u001b[39mdict\u001b[39m(\u001b[39mzip\u001b[39m(columns, row))\n\u001b[0;32m   1945\u001b[0m         \u001b[39mfor\u001b[39;00m row \u001b[39min\u001b[39;00m \u001b[39mself\u001b[39m\u001b[39m.\u001b[39mitertuples(index\u001b[39m=\u001b[39m\u001b[39mFalse\u001b[39;00m, name\u001b[39m=\u001b[39m\u001b[39mNone\u001b[39;00m)\n\u001b[0;32m   1946\u001b[0m     )\n\u001b[1;32m-> 1947\u001b[0m     \u001b[39mreturn\u001b[39;00m [\n\u001b[0;32m   1948\u001b[0m         into_c((k, maybe_box_native(v)) \u001b[39mfor\u001b[39;00m k, v \u001b[39min\u001b[39;00m row\u001b[39m.\u001b[39mitems()) \u001b[39mfor\u001b[39;00m row \u001b[39min\u001b[39;00m rows\n\u001b[0;32m   1949\u001b[0m     ]\n\u001b[0;32m   1951\u001b[0m \u001b[39melif\u001b[39;00m orient \u001b[39m==\u001b[39m \u001b[39m\"\u001b[39m\u001b[39mindex\u001b[39m\u001b[39m\"\u001b[39m:\n\u001b[0;32m   1952\u001b[0m     \u001b[39mif\u001b[39;00m \u001b[39mnot\u001b[39;00m \u001b[39mself\u001b[39m\u001b[39m.\u001b[39mindex\u001b[39m.\u001b[39mis_unique:\n",
      "File \u001b[1;32md:\\Python_ENV\\env\\lib\\site-packages\\pandas\\core\\frame.py:1948\u001b[0m, in \u001b[0;36m<listcomp>\u001b[1;34m(.0)\u001b[0m\n\u001b[0;32m   1942\u001b[0m     columns \u001b[39m=\u001b[39m \u001b[39mself\u001b[39m\u001b[39m.\u001b[39mcolumns\u001b[39m.\u001b[39mtolist()\n\u001b[0;32m   1943\u001b[0m     rows \u001b[39m=\u001b[39m (\n\u001b[0;32m   1944\u001b[0m         \u001b[39mdict\u001b[39m(\u001b[39mzip\u001b[39m(columns, row))\n\u001b[0;32m   1945\u001b[0m         \u001b[39mfor\u001b[39;00m row \u001b[39min\u001b[39;00m \u001b[39mself\u001b[39m\u001b[39m.\u001b[39mitertuples(index\u001b[39m=\u001b[39m\u001b[39mFalse\u001b[39;00m, name\u001b[39m=\u001b[39m\u001b[39mNone\u001b[39;00m)\n\u001b[0;32m   1946\u001b[0m     )\n\u001b[0;32m   1947\u001b[0m     \u001b[39mreturn\u001b[39;00m [\n\u001b[1;32m-> 1948\u001b[0m         into_c((k, maybe_box_native(v)) \u001b[39mfor\u001b[39;00m k, v \u001b[39min\u001b[39;00m row\u001b[39m.\u001b[39mitems()) \u001b[39mfor\u001b[39;00m row \u001b[39min\u001b[39;00m rows\n\u001b[0;32m   1949\u001b[0m     ]\n\u001b[0;32m   1951\u001b[0m \u001b[39melif\u001b[39;00m orient \u001b[39m==\u001b[39m \u001b[39m\"\u001b[39m\u001b[39mindex\u001b[39m\u001b[39m\"\u001b[39m:\n\u001b[0;32m   1952\u001b[0m     \u001b[39mif\u001b[39;00m \u001b[39mnot\u001b[39;00m \u001b[39mself\u001b[39m\u001b[39m.\u001b[39mindex\u001b[39m.\u001b[39mis_unique:\n",
      "\u001b[1;31mKeyboardInterrupt\u001b[0m: "
     ]
    }
   ],
   "source": [
    "import pymongo\n",
    "import pandas as pd\n",
    "\n",
    "table_name = 'BOM'\n",
    "collection_name = '1'\n",
    "\n",
    "client = pymongo.MongoClient('mongodb://localhost:27017/')\n",
    "table = client[table_name]\n",
    "collection = table[collection_name]\n",
    "\n",
    "slice_data(collection, address , SQL, batch_size)\n",
    "\n",
    "# DF分割成小塊\n",
    "\n",
    "# 轉換形式\n",
    "# data_list = DF.to_dict('records')\n",
    "\n",
    "# 加入資料庫\n",
    "# collection.insert_many(data_list)\n",
    "'''\n",
    "json_str = DF.to_json(orient = 'records')\n",
    "\n",
    "\n",
    "\n",
    "data = pd.read_json(json_str, orient='records')\n",
    "\n",
    "collection.insert_many(data.to_dict(orient='records'))\n",
    "'''"
   ]
  }
 ],
 "metadata": {
  "kernelspec": {
   "display_name": "env",
   "language": "python",
   "name": "python3"
  },
  "language_info": {
   "codemirror_mode": {
    "name": "ipython",
    "version": 3
   },
   "file_extension": ".py",
   "mimetype": "text/x-python",
   "name": "python",
   "nbconvert_exporter": "python",
   "pygments_lexer": "ipython3",
   "version": "3.10.11"
  },
  "orig_nbformat": 4
 },
 "nbformat": 4,
 "nbformat_minor": 2
}
