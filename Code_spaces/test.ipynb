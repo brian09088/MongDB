{
 "cells": [
  {
   "cell_type": "code",
   "execution_count": 4,
   "metadata": {},
   "outputs": [
    {
     "name": "stdout",
     "output_type": "stream",
     "text": [
      "\n",
      "            CurrentDataFlowName: YourFlowName \n",
      "            State: Fail \n",
      "            ProcessFunction :GetOracle_DF  \n",
      "            ErrorMessage :(cx_Oracle.DatabaseError) ORA-12154: TNS: 無法解析指定的連線 ID\n",
      "(Background on this error at: https://sqlalche.me/e/14/4xp6)\n",
      "            MachineName :T1-1-1-Q-50802\n",
      "            IPAddress :172.16.56.99\n",
      "            Memo:''\n",
      "            \n",
      "0\n"
     ]
    }
   ],
   "source": [
    "import datetime as dt\n",
    "import cx_Oracle\n",
    "import pandas as pd \n",
    "import sqlalchemy #for panda + CX_ORacle\n",
    "import importlib\n",
    "import logging\n",
    "import math\n",
    "pd.set_option('display.float_format',lambda x : '%.2f' % x) #處理科學符號顯示問題\n",
    "import getpass\n",
    "import win32com.client\n",
    "import datetime as dt\n",
    "import time\n",
    "from datetime import datetime, timedelta\n",
    "\n",
    "import pymongo\n",
    "import pandas as pd\n",
    "\n",
    "import numpy as np\n",
    "from os import listdir\n",
    "from os.path import isfile, isdir, join\n",
    "import sys\n",
    "import json\n",
    "sys.path.append(r\"D:\\SOP\")\n",
    "## 注意 如果有Recompile 要清掉pycache class define 乾 害我踩地雷\n",
    "import Key_DB_Class\n",
    "importlib.reload(Key_DB_Class)\n",
    "from Key_DB_Class import DB_Connection\n",
    "from Key_DB_Class import TXN_Message\n",
    "from Key_DB_Class import DB_TXN_Adopter\n",
    "\n",
    "txn_MSG =TXN_Message()\n",
    "txn_MSG.CurrentDataFlowName='YourFlowName'\n",
    "todayStr =dt.datetime.today().strftime('%Y-%m-%d')\n",
    "logPath =\"Log\"+\"\\\\\" +todayStr+ \".log\" \n",
    "logging.basicConfig(filename=logPath, encoding='utf-8', \n",
    "    level=logging.INFO,\n",
    "    format='%(asctime)s - %(funcName)s-%(lineno)d - %(levelname)s - %(message)s',\n",
    "    datefmt='%Y-%m-%d %H:%M:%S'\n",
    ")\n",
    "DBNameAtUserName_Conn = DB_Connection()\n",
    "DBNameAtUserName_Conn.UserName='XXWNC'\n",
    "DBNameAtUserName_Conn.PassWord='XXWNC'\n",
    "DBNameAtUserName_Conn.Database='ERP_TWNP5'\n",
    "\n",
    "\n",
    "# 建立Oracle連線\n",
    "connection = cx_Oracle.connect(\"XXWNC\", \"XXWNC\", \"erptest2:1526/TWNP5\")\n",
    "Q = \"\"\"\n",
    "SELECT *\n",
    "FROM BRIAN_MANGO_FG\n",
    "\"\"\"\n",
    "DF = DB_TXN_Adopter.GetOracle_DF(DBNameAtUserName_Conn,Q,txn_MSG)\n",
    "print(len(DF))"
   ]
  }
 ],
 "metadata": {
  "kernelspec": {
   "display_name": "env",
   "language": "python",
   "name": "python3"
  },
  "language_info": {
   "codemirror_mode": {
    "name": "ipython",
    "version": 3
   },
   "file_extension": ".py",
   "mimetype": "text/x-python",
   "name": "python",
   "nbconvert_exporter": "python",
   "pygments_lexer": "ipython3",
   "version": "3.10.11"
  },
  "orig_nbformat": 4
 },
 "nbformat": 4,
 "nbformat_minor": 2
}
